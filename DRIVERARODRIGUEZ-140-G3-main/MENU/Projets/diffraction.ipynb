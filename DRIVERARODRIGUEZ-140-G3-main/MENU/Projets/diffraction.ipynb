{
 "cells": [
  {
   "cell_type": "markdown",
   "metadata": {},
   "source": [
    "# Projet\n",
    "\n",
    "Le projet proposé ici consiste à simuler une expérience de retournement temporel ultrasonore. Nous allons pour cela utiliser un réseau de $2N_r+1$ transducteurs élémentaires de géométrie circulaire immergé dans l'eau. La vitesse de propagation des ondes ultrasonores dans l'eau est $c=1.5$ mm/$\\mu$s.\n",
    "\n",
    "Chaque transducteur est supposé de rayon $a$, les transducteurs sont disposés périodiquement selon l'axe $x$ dans le plan $z=0$. On suppose également que l'espace intersticiel entre deux transducteurs successifs est nul.\n",
    "\n",
    "### Calcul de la réponse de diffraction d'un transducteur mono-élément\n",
    "\n",
    "Sous réserve de supposer une vibration en mode piston avec une amplitude uniforme sur toute la surface du disque de rayon $a$ centré en $x=y=z=0$, la réponse impulsionnelle de diffraction au point $(r,z)$ est donnée par la formule suivante :\n",
    "\n",
    "- si le point est dans l'ombre géométrique du disque diffractant ($r<a$)\n",
    "\n",
    "$$h(r,z,t)\\propto\\left\\{\n",
    "\\begin{array}{ll}\n",
    "0 & \\mathrm{si~} ct<z \\\\\n",
    "1 & \\mathrm{si~} z<ct<\\sqrt{z^2+(a-r)^2} \\\\\n",
    "\\displaystyle\\frac{1}{\\pi}\\cos^{-1}\\left(\\frac{r^2+c^2t^2-z^2-a^2}{2r\\sqrt{c^2t^2-z^2}}\\right)\n",
    "& \\mathrm{si~} \\sqrt{z^2+(a-r)^2}<ct<\\sqrt{z^2+(a+r)^2} \\\\\n",
    "0 & \\mathrm{si~} \\sqrt{z^2+(a+r)^2}<ct \\\\\n",
    "\\end{array}\n",
    "\\right.\n",
    "$$\n",
    "\n",
    "- si le point est en dehors de l'ombre géométrique du disque diffractant ($r>a$)\n",
    "\n",
    "$$h(r,z,t)\\propto\\left\\{\n",
    "\\begin{array}{ll}\n",
    "0 & \\mathrm{si~} ct<\\sqrt{z^2+(a-r)^2} \\\\\n",
    "\\displaystyle\\frac{1}{\\pi}\\cos^{-1}\\left(\\frac{r^2+c^2t^2-z^2-a^2}{2r\\sqrt{c^2t^2-z^2}}\\right)\n",
    "& \\mathrm{si~} \\sqrt{z^2+(a-r)^2}<ct<\\sqrt{z^2+(a+r)^2} \\\\\n",
    "0 & \\mathrm{si~} \\sqrt{z^2+(a+r)^2}<ct \\\\\n",
    "\\end{array}\n",
    "\\right.\n",
    "$$\n",
    "\n",
    "Calculer et représenter graphiquement $h(r,t)$ pour un transducteur de diamètre $2a=5$ mm pour un point d'observation situé dans le plan $z=10$ mm et variant entre $r=0$ mm et $r=5$ mm. On veillera à évaluer les paramètres d'échantillonnage temporel pertinents.\n",
    "\n",
    "Pour la représentation graphique on pourra utiliser\n",
    "- un graphique 3D $(r, t, h(r,t))$\n",
    "- un graphique en courbes de niveaux\n",
    "- un graphique avec quelques points particuliers de l'espace choisis"
   ]
  },
  {
   "cell_type": "markdown",
   "metadata": {},
   "source": [
    "La formule précédente correspond à une formulation impulsionnelle de la diffraction. Par ailleurs la quantité $h(r,t)$ correspond à un potentiel de vitesse, qui n'est pas une grandeur physique observable.\n",
    "\n",
    "En pratique on fonctionne en régime transitoire avec un signal d'entrée $e(t)$. Dans ce cas la pression acoustique mesurable est donnée par\n",
    "$$p(r,t)\\propto e(t)\\frac{\\ast}{t}\\frac{\\partial h(r,t)}{\\partial t}$$\n",
    "\n",
    "Pour le signal d'entrée on pourra considérer une fonction monochromatique à la fréquence centrale $f_c=2$ MHz et une bande passante de 100%, comme calculée lors de la séance portant sur l'analyse spectrale.\n",
    "\n",
    "Calculer et représenter graphiquement $p(r,t)$."
   ]
  },
  {
   "cell_type": "markdown",
   "metadata": {},
   "source": [
    "### Calcul du champ reçu en provenance d'une source ponctuelle\n",
    "\n",
    "On positionne une source ponctuelle en avant du réseau de transducteurs, en $r=r_s$ et $z=z_s=10$ mm. Cette source émet une impulsion brève (du genre $e(t)$) et le réseau de transducteurs est utilisé en mode réception, chaque élément recevant un signal temporel spécifique.\n",
    "\n",
    "Par application du principe de réciprocité, le champ créé par la source et mesuré par un transducteur est identique au champ qu'aurait généré ce transducteur mesuré à la position de la source.\n",
    "\n",
    "Calculer et représenter graphiquement la série de signaux temporels mesurés par le réseau de transducteurs en fonction de la position de la source ponctuelle.\n",
    "\n",
    "On pourra considérer $N_r=16$, ce qui correspond à un réseau de 33 transducteurs élémentaires. On réduit le rayon des transducteurs à 0.5 mm. On veillera à assurer que les réponses impulsionnelles de diffraction sont non nulles sur au minimum 2 échantillons temporels."
   ]
  },
  {
   "cell_type": "markdown",
   "metadata": {},
   "source": [
    "### Retournement temporel du champ reçu\n",
    "\n",
    "Les systèmes piézo-électriques peuvent fonctionner aussi bien en réception qu'en émission. On va donc utiliser la série de signaux mesurés par notre réseau de transducteurs en provenance de la source initiale pour automatiquement refocaliser le champ vers cette position.\n",
    "\n",
    "Pour cela on retourne temporellement chacun des signaux reçus, ces signaux après retournement temporel seront par la suite utilisés comme sources d'émission voie par voie.\n",
    "\n",
    "Calculer et représenter les signaux retournés temporellement."
   ]
  },
  {
   "cell_type": "markdown",
   "metadata": {},
   "source": [
    "### Calcul du champ focalisé\n",
    "\n",
    "Pour un point situé en avant du réseau (on pourra dans un premier temps se positionner dans le plan $z=z_s$ de la source initiale), calculer le champ rayonné par le réseau de transducteurs après retournement temporel des signaux reçus au cours de la première étape.\n",
    "\n",
    "Représenter en fonction de la position du point de calcul l'amplitude maximale du champ de pression.\n",
    "On pourra examiner plus précisément deux directions particulières d'exploration du champ :\n",
    "- parallèlement au réseau de transducteurs, dans le plan $z=z_s$ de la source initiale\n",
    "- perpendiculairement au réseau de transducteurs, selon la droite $x=x_s$ de la source initiale\n",
    "\n",
    "Retrouver l'effet de la focalisation ; quelle est la forme de la tâche focale ?\n",
    "\n",
    "On pourra également faire une exploration 2D du champ diffracté dans le plan $(x,z)$ autour de la position de la source initiale $(x_s, z_s)$. \n",
    "\n",
    "Les calculs peuvent rapidement être un peu longs, on pourra clairement tirer avantage du calcul parallèle."
   ]
  },
  {
   "cell_type": "markdown",
   "metadata": {},
   "source": [
    "### Forme de la tâche focale\n",
    "\n",
    "Théoriquement, on peut prévoir que la tâche focale a parallèlement au réseau de trasducteurs une taille proportionnelle à \n",
    "$$\\lambda \\frac{F}{O}$$\n",
    "où\n",
    "- $\\lambda$ est la longueur d'onde\n",
    "- $F$ est la distance focale (profondeur de la source initiale)\n",
    "- $O$ est l'ouverture de la surface diffractante (ouverture totale du réseau de transducteurs\n",
    "\n",
    "Imaginer une expérience numérique permettant de vérifier cette propriété.\n"
   ]
  }
 ],
 "metadata": {
  "kernelspec": {
   "display_name": "Python 3",
   "language": "python",
   "name": "python3"
  },
  "language_info": {
   "codemirror_mode": {
    "name": "ipython",
    "version": 3
   },
   "file_extension": ".py",
   "mimetype": "text/x-python",
   "name": "python",
   "nbconvert_exporter": "python",
   "pygments_lexer": "ipython3",
   "version": "3.9.0"
  }
 },
 "nbformat": 4,
 "nbformat_minor": 4
}

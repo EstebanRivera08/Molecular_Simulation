{
 "cells": [
  {
   "cell_type": "markdown",
   "id": "e9210f9b-1517-4ec8-8197-1376dbc1a464",
   "metadata": {},
   "source": [
    "# Pressure measurements in molecular dynamics"
   ]
  },
  {
   "cell_type": "markdown",
   "id": "903d3589-0222-4a0d-89f7-75e356bdc97b",
   "metadata": {},
   "source": [
    "When molecules or atoms are confined to a box they produce a pressure due to the exchange of momentum with the walls. If the normal velocity is ${\\bf n}\\cdot {\\bf v}$ with ${\\bf n}$ the wall normal, each collision with the wall exchanges momentum $I= 2 m\\, {\\bf n}\\cdot {\\bf v} $. The time average of this quantity is $L P$, where $L$  is the side of the box and $P$ is the pressure. Each call to `md_step()` should calculate the time average of the force during a single call, and return the result to the calling function."
   ]
  }
 ],
 "metadata": {
  "kernelspec": {
   "display_name": "Python 3 (ipykernel)",
   "language": "python",
   "name": "python3"
  },
  "language_info": {
   "codemirror_mode": {
    "name": "ipython",
    "version": 3
   },
   "file_extension": ".py",
   "mimetype": "text/x-python",
   "name": "python",
   "nbconvert_exporter": "python",
   "pygments_lexer": "ipython3",
   "version": "3.9.12"
  }
 },
 "nbformat": 4,
 "nbformat_minor": 5
}

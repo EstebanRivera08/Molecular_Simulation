{
 "cells": [
  {
   "cell_type": "markdown",
   "id": "6f71bbf9-b11c-4f3f-b776-13a12e28447f",
   "metadata": {},
   "source": [
    "# Subclassing -- replacing functions in a class\n",
    "\n",
    "One of the main interests of using classes it the possibility of **rewriting parts of an object**. Here we take the `Simul` class and replace the `__init__` and the `md_step` functions. We still have access to the previous definitions with the use of the `super()` call."
   ]
  },
  {
   "cell_type": "code",
   "execution_count": 1,
   "id": "d7f93cee-0c47-41f2-b4a7-a67e2cc57609",
   "metadata": {},
   "outputs": [
    {
     "name": "stdout",
     "output_type": "stream",
     "text": [
      "Simul init\n",
      "ModifiedSimul init\n",
      "sub md_step\n",
      "Simul::md_step\n",
      "\n",
      "     Subclassing documentation\n",
      "    \n",
      "pos= [[0.25008875 0.24909117]\n",
      " [0.75086623 0.2499349 ]\n",
      " [0.2519741  0.74868585]\n",
      " [0.74906012 0.74944614]]\n",
      "vel= [[ 0.08875425 -0.90882607]\n",
      " [ 0.86623143 -0.06510496]\n",
      " [ 1.97409669 -1.314151  ]\n",
      " [-0.93988308 -0.5538577 ]]\n",
      "\n"
     ]
    }
   ],
   "source": [
    "from simul import Simul\n",
    "\n",
    "class ModifiedSimul(Simul):\n",
    "    \"\"\"\n",
    "     Subclassing documentation\n",
    "    \"\"\"\n",
    "    def __init__(self, sample_time, sigma):\n",
    "        super().__init__(sample_time, sigma)\n",
    "        print(\"ModifiedSimul init\")\n",
    "\n",
    "    def md_step(self):  # m number of iterations\n",
    "        print(\"sub md_step\")\n",
    "        super().md_step()  # we now call the original md_step code\n",
    "\n",
    "simul = ModifiedSimul(sample_time=0.001, sigma=0.15)\n",
    "simul.md_step()\n",
    "\n",
    "print(simul.__doc__)  # we have replaced the __doc__ string\n",
    "print(simul)"
   ]
  },
  {
   "cell_type": "code",
   "execution_count": null,
   "id": "7d2ae673-6b4c-4302-abad-3ae92aaf8896",
   "metadata": {},
   "outputs": [],
   "source": []
  }
 ],
 "metadata": {
  "kernelspec": {
   "display_name": "Python 3 (ipykernel)",
   "language": "python",
   "name": "python3"
  },
  "language_info": {
   "codemirror_mode": {
    "name": "ipython",
    "version": 3
   },
   "file_extension": ".py",
   "mimetype": "text/x-python",
   "name": "python",
   "nbconvert_exporter": "python",
   "pygments_lexer": "ipython3",
   "version": "3.8.13"
  }
 },
 "nbformat": 4,
 "nbformat_minor": 5
}

{
 "cells": [
  {
   "cell_type": "markdown",
   "id": "fa664f63-3c2c-4c32-8f98-6cb101fe6270",
   "metadata": {},
   "source": [
    "# Classes hide much of the complexity of code. \n",
    "### We can use very simple methods to save data to disk\n",
    "We can create objects and save to disk without have to have detailed knowledge of their internal structure. If we are willing to have a non-human readable file then python allows you to write out a complete object, preserving all information. This uses the `pickle` format."
   ]
  },
  {
   "cell_type": "markdown",
   "id": "f74f7f2d-225b-4e09-bd84-69e9938fd71c",
   "metadata": {},
   "source": [
    "### Writing out data"
   ]
  },
  {
   "cell_type": "code",
   "execution_count": 1,
   "id": "618685ca-423a-413a-bddf-fca7845a5b04",
   "metadata": {},
   "outputs": [
    {
     "name": "stdout",
     "output_type": "stream",
     "text": [
      "Simul init\n",
      " \n",
      "    This is the prototype of the simulation code\n",
      "    It moves the particles with at _velocity, using a vector notation: numpy should be used.\n",
      "    \n",
      "Simul::md_step\n",
      "pos= [[0.27089557 0.25815997]\n",
      " [0.74338439 0.24283444]\n",
      " [0.23302176 0.76702468]\n",
      " [0.75269471 0.75544803]]\n",
      "vel= [[ 2.08955679  0.81599735]\n",
      " [-0.66156101 -0.71655557]\n",
      " [-1.69782352  1.70246758]\n",
      " [ 0.26947142  0.54480322]]\n",
      "\n",
      "we have saved the data to the file simul.pickle\n"
     ]
    }
   ],
   "source": [
    "import pickle  # this is the magic to save an object to disk\n",
    "from simul import Simul\n",
    "\n",
    "simul = Simul(sample_time=0.01, sigma=0.15)  # this line calls __init__\n",
    "print(simul.__doc__)  # print the class documentation\n",
    "simul.md_step()  # move forwards sample_time\n",
    "print(simul)   # we have defined the function __str__, so we can print\n",
    "\n",
    "with open('simul.pickle', 'wb') as file:  # this sends all the state to a file\n",
    "        pickle.dump(simul,file)\n",
    "print(\"we have saved the data to the file simul.pickle\")"
   ]
  },
  {
   "cell_type": "markdown",
   "id": "272332e9-8a77-4193-b818-6940cebab25f",
   "metadata": {},
   "source": [
    "`simul.pickle` now contains a full copy of the state of the simulation\n",
    "We can load it back in to memory  and read its contents."
   ]
  },
  {
   "cell_type": "markdown",
   "id": "5570fe3d-9e5b-473a-9dea-3c3e2e93d4dc",
   "metadata": {},
   "source": [
    "### Reading in Data"
   ]
  },
  {
   "cell_type": "code",
   "execution_count": 2,
   "id": "fe2fe1ca-a257-48ab-b03d-cc9fa541edec",
   "metadata": {},
   "outputs": [
    {
     "name": "stdout",
     "output_type": "stream",
     "text": [
      "loaded position [[0.27089557 0.25815997]\n",
      " [0.74338439 0.24283444]\n",
      " [0.23302176 0.76702468]\n",
      " [0.75269471 0.75544803]]\n"
     ]
    }
   ],
   "source": [
    "with open('simul.pickle', 'rb') as file:\n",
    "        simul_copy = pickle.load(file)  # we\n",
    "print('loaded position' , simul_copy.position)"
   ]
  },
  {
   "cell_type": "markdown",
   "id": "df4bcbbf-9c67-42f4-a86c-04860ab5882b",
   "metadata": {},
   "source": [
    "### If we want to have human readable output to a file we can also use 'csv' output"
   ]
  },
  {
   "cell_type": "code",
   "execution_count": 3,
   "id": "2672b8b4-19a4-429a-90a4-73f969a0ce42",
   "metadata": {},
   "outputs": [],
   "source": [
    "import csv\n",
    "with open('simul.csv','w') as file:\n",
    "    writer = csv.writer(file)\n",
    "    writer.writerow(simul.position)\n"
   ]
  },
  {
   "cell_type": "markdown",
   "id": "491806a8-0430-45a1-9671-af16a01c1091",
   "metadata": {},
   "source": [
    "### Or we just save a numpy array to a file"
   ]
  },
  {
   "cell_type": "code",
   "execution_count": 4,
   "id": "b56b072e-425d-4987-b311-69bfb9d0f72a",
   "metadata": {},
   "outputs": [],
   "source": [
    "import numpy as np\n",
    "np.savetxt(\"position.txt\", simul.position)"
   ]
  },
  {
   "cell_type": "code",
   "execution_count": null,
   "id": "14534236-822d-4f57-bb2c-76a60e5ed3c1",
   "metadata": {},
   "outputs": [],
   "source": []
  }
 ],
 "metadata": {
  "kernelspec": {
   "display_name": "Python 3",
   "language": "python",
   "name": "python3"
  },
  "language_info": {
   "codemirror_mode": {
    "name": "ipython",
    "version": 3
   },
   "file_extension": ".py",
   "mimetype": "text/x-python",
   "name": "python",
   "nbconvert_exporter": "python",
   "pygments_lexer": "ipython3",
   "version": "3.9.0"
  }
 },
 "nbformat": 4,
 "nbformat_minor": 5
}

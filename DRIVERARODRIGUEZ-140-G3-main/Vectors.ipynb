{
 "cells": [
  {
   "cell_type": "markdown",
   "id": "84a57c26-442d-4b38-a0d2-9f11a0654814",
   "metadata": {},
   "source": [
    "# Vectorized operations\n",
    "### vectorization is important to write fast and compact code\n",
    "\n",
    "Here we will often be working with $N$ particles, which gives $N(N-1)/2$ possible pairs of particles. When $N=4$ then there are $6$ possible pairs. We will use `np.where()` to efficiently apply logical operations to all elements of the arrays. Read the following code, and understand the role of `unravel_index` to target the particle and index which corresponds to a given logical operation."
   ]
  },
  {
   "cell_type": "code",
   "execution_count": 23,
   "id": "5403fa4a-e696-46b9-9e3b-ef4863a9eb58",
   "metadata": {},
   "outputs": [
    {
     "name": "stdout",
     "output_type": "stream",
     "text": [
      "shape of position (4, 2)\n",
      "indexing i, j [0 0 0 1 1 2] [1 2 3 2 3 3]\n",
      "rij\n",
      " [[-0.5  0. ]\n",
      " [ 0.  -0.5]\n",
      " [-0.5 -0.5]\n",
      " [ 0.5 -0.5]\n",
      " [ 0.  -0.5]\n",
      " [-0.5  0. ]]\n",
      "v0\n",
      " [[0.24671407 0.12995774]\n",
      " [4.04345115 1.3952563 ]\n",
      " [0.18186525 0.59206515]\n",
      " [0.16202402 0.67408673]]\n",
      "smallest value of v0: disk direction 0 1\n"
     ]
    }
   ],
   "source": [
    "import numpy as np\n",
    "\n",
    "# Create an array of 4 particles in 2 dimensions\n",
    "position = np.array([[0.25, 0.25], [0.75, 0.25], [0.25, 0.75], [0.75, 0.75]])\n",
    "print(\"shape of position\", position.shape)\n",
    "\n",
    "velocity = np.random.normal(size=position.shape)  # velocities with the same dimensions as the position array\n",
    "\n",
    "# there are N(N-1)/2=6 pairs, which are labeled i,j\n",
    "i, j = np.triu_indices(position.shape[0], k=1)\n",
    "print(\"indexing i, j\", i,j)\n",
    "rij = position[i]-position[j]  # set of all 6 separation vectors\n",
    "print(\"rij\\n\",rij)\n",
    "\n",
    "# vectorized calculation as a function of each component of the velocity\n",
    "v0 = np.where(velocity >0 , velocity, velocity*velocity  )\n",
    "print(\"v0\\n\", v0) \n",
    "\n",
    "#find the disk and direction corresponding to smallest v0\n",
    "disk, direction = np.unravel_index(v0.argmin(), v0.shape)\n",
    "print(\"smallest value of v0: disk direction\", disk, direction)"
   ]
  },
  {
   "cell_type": "code",
   "execution_count": 6,
   "id": "950704cf-c546-469d-a433-8def6fc158c9",
   "metadata": {},
   "outputs": [
    {
     "name": "stdout",
     "output_type": "stream",
     "text": [
      "(array([0, 0, 0, 1, 1, 2]), array([0, 1, 2, 1, 2, 2]))\n",
      "(array([0, 0, 1]), array([1, 2, 2]))\n"
     ]
    },
    {
     "ename": "TypeError",
     "evalue": "unsupported operand type(s) for /: 'tuple' and 'tuple'",
     "output_type": "error",
     "traceback": [
      "\u001b[0;31m---------------------------------------------------------------------------\u001b[0m",
      "\u001b[0;31mTypeError\u001b[0m                                 Traceback (most recent call last)",
      "Input \u001b[0;32mIn [6]\u001b[0m, in \u001b[0;36m<cell line: 7>\u001b[0;34m()\u001b[0m\n\u001b[1;32m      4\u001b[0m q2 \u001b[38;5;241m=\u001b[39m np\u001b[38;5;241m.\u001b[39mtriu_indices(\u001b[38;5;241m3\u001b[39m, k\u001b[38;5;241m=\u001b[39m\u001b[38;5;241m1\u001b[39m)\n\u001b[1;32m      5\u001b[0m \u001b[38;5;28mprint\u001b[39m(q2)\n\u001b[0;32m----> 7\u001b[0m \u001b[38;5;28mprint\u001b[39m(\u001b[43mq1\u001b[49m\u001b[38;5;241;43m/\u001b[39;49m\u001b[43mq2\u001b[49m)\n",
      "\u001b[0;31mTypeError\u001b[0m: unsupported operand type(s) for /: 'tuple' and 'tuple'"
     ]
    }
   ],
   "source": [
    "import numpy as np\n",
    "q1 = np.triu_indices(3, k=0)\n",
    "print(q1)\n",
    "q2 = np.triu_indices(3, k=1)\n",
    "print(q2)\n",
    "\n",
    "print(q1/q2)\n",
    "\n"
   ]
  },
  {
   "cell_type": "code",
   "execution_count": 17,
   "id": "748756f3-32d7-4029-a9b8-533e985e47ac",
   "metadata": {},
   "outputs": [
    {
     "name": "stdout",
     "output_type": "stream",
     "text": [
      "[[0 0 1]\n",
      " [0 0 1]]\n",
      "[[2 2 2]\n",
      " [2 2 2]]\n",
      "[[-1.  -1.  -0.5]\n",
      " [-1.  -1.  -0.5]]\n",
      "-0.5\n"
     ]
    }
   ],
   "source": [
    "x = np.array([[0, 0, 1],[0, 0, 1]])\n",
    "print(x)\n",
    "y = np.array([[2, 2, 2],[2, 2, 2]])\n",
    "print(y)\n",
    "q = x/y -1\n",
    "print(q)\n",
    "print(q[1,2])\n"
   ]
  },
  {
   "cell_type": "code",
   "execution_count": null,
   "id": "d7218e2f-7b26-449e-8f21-649bc439b270",
   "metadata": {},
   "outputs": [],
   "source": []
  }
 ],
 "metadata": {
  "kernelspec": {
   "display_name": "Python 3 (ipykernel)",
   "language": "python",
   "name": "python3"
  },
  "language_info": {
   "codemirror_mode": {
    "name": "ipython",
    "version": 3
   },
   "file_extension": ".py",
   "mimetype": "text/x-python",
   "name": "python",
   "nbconvert_exporter": "python",
   "pygments_lexer": "ipython3",
   "version": "3.9.12"
  }
 },
 "nbformat": 4,
 "nbformat_minor": 5
}

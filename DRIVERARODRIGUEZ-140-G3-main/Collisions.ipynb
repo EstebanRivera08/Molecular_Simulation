{
 "cells": [
  {
   "cell_type": "markdown",
   "id": "07e43f2d-3fa7-4979-b66d-69d012dbba83",
   "metadata": {},
   "source": [
    "# Pair collisions"
   ]
  },
  {
   "cell_type": "markdown",
   "id": "fb089c33-91d6-4ec6-8291-7866a2942d8c",
   "metadata": {},
   "source": [
    "We can find the collision rule between two particles by considering the conservation of momentum, and conservation of energy. We take all particles masses, $m=1$."
   ]
  },
  {
   "cell_type": "markdown",
   "id": "c2b6732f-583a-4886-ba60-ab84a8fb23f2",
   "metadata": {},
   "source": [
    "Momentum conservation gives $ \\textbf{v}_1+ \\textbf{v}_2 = \\textbf{v'}_1+ \\textbf{v'}_2 $, for  the collision between two particles $1$ and $2$ of equal mass. Energy conservation implies that the kinetic energy $K= \\frac{\\textbf{v}_1^2}{2} + \\frac{\\textbf{v}_2^2}{2}$, is also the same before and after collision."
   ]
  },
  {
   "cell_type": "markdown",
   "id": "3cde6f2f-b33d-466a-8d68-578f0ade2040",
   "metadata": {},
   "source": [
    "This implies $$\\textbf{v}_1' =\\textbf{v}_1 -\\hat{ \\textbf{r}} (\\hat {\\textbf{ r}}  \\cdot ( \\textbf{v}_1 -\\textbf{ v}_2) )$$,  $$\\textbf{v}_2' =\\textbf{v}_2 +\\hat{ \\textbf{r}} (\\hat {\\textbf{ r}}  \\cdot ( \\textbf{v}_1 -\\textbf{ v}_2) )$$\n",
    "where $\\hat{\\textbf{r}}$ is a unit vector in the direction of the vector joining the centres of the particles."
   ]
  },
  {
   "cell_type": "markdown",
   "id": "003ec9bd-05d5-45af-8a05-27a5deeae86d",
   "metadata": {},
   "source": [
    "When coding the collisions it is a good crosscheck on your code to verify these two conservation laws. Python has two function for this. `isclose()` to check if two floating numbers are close. `assert` stops the program if the comparison fails. We are working with floating point numbers. You should never test for exact equality. Round-off errors are always present in any calculation.\n"
   ]
  },
  {
   "cell_type": "code",
   "execution_count": 1,
   "id": "0109f3ff-7d1a-4995-a9b0-318f4151074a",
   "metadata": {},
   "outputs": [
    {
     "name": "stdout",
     "output_type": "stream",
     "text": [
      "a b\t 1.000000000001 1\n",
      "a b\t 1.00000001 1\n",
      "this next line will give an error\n",
      "\n"
     ]
    },
    {
     "ename": "AssertionError",
     "evalue": "",
     "output_type": "error",
     "traceback": [
      "\u001b[0;31m---------------------------------------------------------------------------\u001b[0m",
      "\u001b[0;31mAssertionError\u001b[0m                            Traceback (most recent call last)",
      "Input \u001b[0;32mIn [1]\u001b[0m, in \u001b[0;36m<cell line: 13>\u001b[0;34m()\u001b[0m\n\u001b[1;32m     11\u001b[0m \u001b[38;5;28mprint\u001b[39m(\u001b[38;5;124m\"\u001b[39m\u001b[38;5;124ma b\u001b[39m\u001b[38;5;130;01m\\t\u001b[39;00m\u001b[38;5;124m\"\u001b[39m,a,b)\n\u001b[1;32m     12\u001b[0m \u001b[38;5;28mprint\u001b[39m(\u001b[38;5;124m\"\u001b[39m\u001b[38;5;124mthis next line will give an error\u001b[39m\u001b[38;5;130;01m\\n\u001b[39;00m\u001b[38;5;124m\"\u001b[39m)\n\u001b[0;32m---> 13\u001b[0m \u001b[38;5;28;01massert\u001b[39;00m math\u001b[38;5;241m.\u001b[39misclose(a,b)\n",
      "\u001b[0;31mAssertionError\u001b[0m: "
     ]
    }
   ],
   "source": [
    "import math\n",
    "a=1+ 1.e-12\n",
    "b=1\n",
    "print(\"a b\\t\",a,b)\n",
    "\n",
    "# this compares a,b to within 1.e-9. they are very nearly the same\n",
    "# nothing is printed\n",
    "assert math.isclose(a,b)\n",
    "# this makes a and b different by a larger amount, the assert will fail and print and error\n",
    "a=1+1.e-8\n",
    "print(\"a b\\t\",a,b)\n",
    "print(\"this next line will give an error\\n\")\n",
    "assert math.isclose(a,b)\n",
    "\n"
   ]
  },
  {
   "cell_type": "markdown",
   "id": "345e51a8-25be-4e3f-ad17-46590a336a00",
   "metadata": {},
   "source": [
    "## Useful vector expressions in numpy\n",
    "Calculating the norm of all vectors at same time"
   ]
  },
  {
   "cell_type": "code",
   "execution_count": null,
   "id": "eb96bf47-f037-47ee-99ea-71cc9b5b1b69",
   "metadata": {},
   "outputs": [],
   "source": [
    "import numpy as np\n",
    "\n",
    "position = np.array([[0.25, 0.25], [0.75, 0.25], [0.25, 0.75], [0.75, 0.75]])\n",
    "i, j = np.triu_indices(position.shape[0], k=1)\n",
    "rij = position[i]-position[j]  # set of all 6 separation vectors\n",
    "rij_sq = (rij**2).sum(1)\n",
    "print(\"squared separations\", rij_sq)"
   ]
  },
  {
   "cell_type": "markdown",
   "id": "c8eb8905-647b-4165-96d5-6b88281e91e0",
   "metadata": {},
   "source": [
    "### Collision times\n",
    "\n",
    "Particles are moving at constant speed so, for instance the $x$-coordinate of a particle is $$x=x_0 + v_x t$$ as a function of time. Show that if the particles have diameter $\\sigma$ the contact time is the solution to a quadratic equation."
   ]
  },
  {
   "cell_type": "code",
   "execution_count": null,
   "id": "6080a8d5-e692-4526-a294-dcac7a22cbe9",
   "metadata": {},
   "outputs": [],
   "source": []
  },
  {
   "cell_type": "code",
   "execution_count": null,
   "id": "4871a5f9-1d2a-4e87-9c3c-3cacbce374d0",
   "metadata": {},
   "outputs": [],
   "source": []
  }
 ],
 "metadata": {
  "kernelspec": {
   "display_name": "Python 3 (ipykernel)",
   "language": "python",
   "name": "python3"
  },
  "language_info": {
   "codemirror_mode": {
    "name": "ipython",
    "version": 3
   },
   "file_extension": ".py",
   "mimetype": "text/x-python",
   "name": "python",
   "nbconvert_exporter": "python",
   "pygments_lexer": "ipython3",
   "version": "3.9.12"
  }
 },
 "nbformat": 4,
 "nbformat_minor": 5
}

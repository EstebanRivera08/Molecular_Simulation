{
 "cells": [
  {
   "cell_type": "markdown",
   "id": "1955ccff-b39a-4e51-9f14-be3da6498e92",
   "metadata": {},
   "source": [
    "### Classes in Python"
   ]
  },
  {
   "cell_type": "raw",
   "id": "5f699163-0ea8-4573-9034-7bbfad72dfc5",
   "metadata": {},
   "source": [
    "#We can now create `Point2d` objects and manipulate them.\n"
   ]
  },
  {
   "cell_type": "code",
   "execution_count": null,
   "id": "c884d0e4-fe0f-4ad8-8f17-386ad317e937",
   "metadata": {},
   "outputs": [],
   "source": [
    "class "
   ]
  },
  {
   "cell_type": "code",
   "execution_count": 41,
   "id": "59e91384-deed-4f7b-8525-65356afeed96",
   "metadata": {},
   "outputs": [
    {
     "name": "stdout",
     "output_type": "stream",
     "text": [
      "p1 components  6.0 3.0\n",
      "p1 =  2d Point [6.0 , 3.0]\n"
     ]
    }
   ],
   "source": [
    "p1 = Point2d(2.,3.)\n",
    "p1.translate(4.,0.)\n",
    "print('p1 components ', p1.x, p1.y)\n",
    "print('p1 = ', p1)"
   ]
  },
  {
   "cell_type": "code",
   "execution_count": 42,
   "id": "c48ec575-380a-4275-a10e-f44530045999",
   "metadata": {},
   "outputs": [
    {
     "name": "stdout",
     "output_type": "stream",
     "text": [
      "p2 =  2.2 84\n",
      "p2 =  2d Point [2.2 , 84]\n"
     ]
    }
   ],
   "source": [
    "p2=Point2d(1.1,42)\n",
    "p2.double()\n",
    "print('p2 = ', p2.x, p2.y)\n",
    "print('p2 = ', p2)"
   ]
  },
  {
   "cell_type": "code",
   "execution_count": 43,
   "id": "3cb566ff-363e-4e11-9504-62105eb0205f",
   "metadata": {},
   "outputs": [
    {
     "name": "stdout",
     "output_type": "stream",
     "text": [
      "{'x': 6.0, 'y': 3.0}\n",
      "Class for points in 2d\n",
      "move point by dx dy\n",
      "2d Point [6.0 , 3.0]\n"
     ]
    }
   ],
   "source": [
    "\n",
    "print(p1.__dict__)\n",
    "\n",
    "print(p1.__doc__)\n",
    "\n",
    "print(p1.translate.__doc__)\n",
    "\n",
    "print(p1)\n"
   ]
  },
  {
   "cell_type": "code",
   "execution_count": 44,
   "id": "23758f2a-83e4-4d53-8296-2bd63609e164",
   "metadata": {},
   "outputs": [
    {
     "data": {
      "text/plain": [
       "{'x': 6.0, 'y': 3.0}"
      ]
     },
     "execution_count": 44,
     "metadata": {},
     "output_type": "execute_result"
    }
   ],
   "source": [
    "p1.__dict__"
   ]
  },
  {
   "cell_type": "code",
   "execution_count": 45,
   "id": "9b95c0f4-8a61-4b63-8a70-4d2e730e273c",
   "metadata": {},
   "outputs": [
    {
     "data": {
      "text/plain": [
       "'2d Point [6.0 , 3.0]'"
      ]
     },
     "execution_count": 45,
     "metadata": {},
     "output_type": "execute_result"
    }
   ],
   "source": [
    "p1.__str__()"
   ]
  },
  {
   "cell_type": "code",
   "execution_count": 46,
   "id": "dd221d8e-83aa-4358-800a-03d61278d646",
   "metadata": {},
   "outputs": [
    {
     "ename": "NameError",
     "evalue": "name 'Circle' is not defined",
     "output_type": "error",
     "traceback": [
      "\u001b[0;31m---------------------------------------------------------------------------\u001b[0m",
      "\u001b[0;31mNameError\u001b[0m                                 Traceback (most recent call last)",
      "Input \u001b[0;32mIn [46]\u001b[0m, in \u001b[0;36m<cell line: 1>\u001b[0;34m()\u001b[0m\n\u001b[0;32m----> 1\u001b[0m A1 \u001b[38;5;241m=\u001b[39m \u001b[43mCircle\u001b[49m(\u001b[38;5;241m5\u001b[39m,\u001b[38;5;241m6\u001b[39m,\u001b[38;5;241m7\u001b[39m)\n\u001b[1;32m      2\u001b[0m \u001b[38;5;28mprint\u001b[39m(A1)\n",
      "\u001b[0;31mNameError\u001b[0m: name 'Circle' is not defined"
     ]
    }
   ],
   "source": [
    "A1 = Circle(5,6,7)\n",
    "print(A1)"
   ]
  },
  {
   "cell_type": "code",
   "execution_count": 23,
   "id": "fcda166a-9fa9-4721-9ade-818861b7a61f",
   "metadata": {},
   "outputs": [],
   "source": [
    "\n"
   ]
  }
 ],
 "metadata": {
  "kernelspec": {
   "display_name": "Python 3 (ipykernel)",
   "language": "python",
   "name": "python3"
  },
  "language_info": {
   "codemirror_mode": {
    "name": "ipython",
    "version": 3
   },
   "file_extension": ".py",
   "mimetype": "text/x-python",
   "name": "python",
   "nbconvert_exporter": "python",
   "pygments_lexer": "ipython3",
   "version": "3.9.12"
  }
 },
 "nbformat": 4,
 "nbformat_minor": 5
}

{
 "cells": [
  {
   "cell_type": "markdown",
   "id": "4c819ed7-e319-4b00-9fbc-adcfafe29c46",
   "metadata": {},
   "source": [
    "## Time reversibility"
   ]
  },
  {
   "cell_type": "markdown",
   "id": "a93b5847-22c6-4aac-a81c-2396594a4985",
   "metadata": {},
   "source": [
    "Set up an initial configuration as a \"billiard table for instance 15 disks in a triangle. Hit the targets with a cue ball and observe the results. \n",
    "\n",
    "Newtonian dynamics is perfect reversible, but is a computer? Stop the motion after a chosen time and reverse the velocities. What happens as a function of the time delay. \n",
    "\n",
    "<img src=\"images/billiard.png\" width=\"400\">"
   ]
  },
  {
   "cell_type": "markdown",
   "id": "91dcd310-0028-4b41-8119-889178262c8e",
   "metadata": {},
   "source": [
    "Python contains arbitrary precision libraries, it could be interesting, but difficult, to make the code run with arbitrary precision. "
   ]
  },
  {
   "cell_type": "code",
   "execution_count": null,
   "id": "391824d9-a12e-48c3-98ee-6eee8c803eec",
   "metadata": {},
   "outputs": [],
   "source": []
  }
 ],
 "metadata": {
  "kernelspec": {
   "display_name": "Python 3 (ipykernel)",
   "language": "python",
   "name": "python3"
  },
  "language_info": {
   "codemirror_mode": {
    "name": "ipython",
    "version": 3
   },
   "file_extension": ".py",
   "mimetype": "text/x-python",
   "name": "python",
   "nbconvert_exporter": "python",
   "pygments_lexer": "ipython3",
   "version": "3.8.13"
  }
 },
 "nbformat": 4,
 "nbformat_minor": 5
}

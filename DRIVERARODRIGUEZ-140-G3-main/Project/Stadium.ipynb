{
 "cells": [
  {
   "cell_type": "markdown",
   "id": "4c819ed7-e319-4b00-9fbc-adcfafe29c46",
   "metadata": {},
   "source": [
    "## Bunimovich stadium\n",
    "\n",
    "The Bunimovich stadium is a box built from straight lines and circular arcs. Implement the collision rule for this box.\n",
    "\n",
    "1. Turn off the collisions between the particles and start with a large number of particles placed in the same position which are launched radially in different directions. Observe the result.\n",
    "\n",
    "2. Take just a single particle in the box, every time it moves its radius mark the position with a single, small dot. Let the simulation run and interpret the results."
   ]
  },
  {
   "cell_type": "markdown",
   "id": "a93b5847-22c6-4aac-a81c-2396594a4985",
   "metadata": {},
   "source": [
    " <img src=\"images/stadium.png\" width=\"400\">"
   ]
  }
 ],
 "metadata": {
  "kernelspec": {
   "display_name": "Python 3 (ipykernel)",
   "language": "python",
   "name": "python3"
  },
  "language_info": {
   "codemirror_mode": {
    "name": "ipython",
    "version": 3
   },
   "file_extension": ".py",
   "mimetype": "text/x-python",
   "name": "python",
   "nbconvert_exporter": "python",
   "pygments_lexer": "ipython3",
   "version": "3.8.13"
  }
 },
 "nbformat": 4,
 "nbformat_minor": 5
}

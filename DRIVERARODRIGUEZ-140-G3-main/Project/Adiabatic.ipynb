{
 "cells": [
  {
   "cell_type": "markdown",
   "id": "4c819ed7-e319-4b00-9fbc-adcfafe29c46",
   "metadata": {},
   "source": [
    "## Adibatic expansion of a gas"
   ]
  },
  {
   "cell_type": "markdown",
   "id": "a93b5847-22c6-4aac-a81c-2396594a4985",
   "metadata": {},
   "source": [
    "Until now we have worked with a box whose dimensions remain constant during the simulation. Modify your code so that the box can change size and shape during the simulation, for instance one wall moves at constant speed during the simulation to form a piston. What is the modified collision rule with the moving wall?"
   ]
  },
  {
   "cell_type": "markdown",
   "id": "91dcd310-0028-4b41-8119-889178262c8e",
   "metadata": {},
   "source": [
    "Energy is no longer conserved in this system, since the gas can do work on the piston. Study the temperature as a function of volume change and piston velocity."
   ]
  },
  {
   "cell_type": "markdown",
   "id": "ad41e736-a9ad-4e1f-83b4-d5ba6e421908",
   "metadata": {},
   "source": [
    "Perform cyclic motion in which the piston increases, then decreases the volume. Does the temperature return to its original value? Relate your results to the thermodynamics of adiabatic expansion of a perfect gas, or a van der Waals fluid where $ P(V/N -b)= k_BT $."
   ]
  }
 ],
 "metadata": {
  "kernelspec": {
   "display_name": "Python 3 (ipykernel)",
   "language": "python",
   "name": "python3"
  },
  "language_info": {
   "codemirror_mode": {
    "name": "ipython",
    "version": 3
   },
   "file_extension": ".py",
   "mimetype": "text/x-python",
   "name": "python",
   "nbconvert_exporter": "python",
   "pygments_lexer": "ipython3",
   "version": "3.8.13"
  }
 },
 "nbformat": 4,
 "nbformat_minor": 5
}

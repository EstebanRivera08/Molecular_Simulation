{
 "cells": [
  {
   "cell_type": "markdown",
   "id": "4c819ed7-e319-4b00-9fbc-adcfafe29c46",
   "metadata": {},
   "source": [
    "## Thermal conduction"
   ]
  },
  {
   "cell_type": "markdown",
   "id": "a93b5847-22c6-4aac-a81c-2396594a4985",
   "metadata": {},
   "source": [
    "Change the boundary conditions so that one wall is 'hot' and a second is 'cold'. How can this be implemented with a molecular dynamics code? Characterize the distribution of temperature in the system as a function of position. Measure the thermal conductivity of your system.\n",
    "\n",
    "Add a single larger and heavier particle in the system with a temperature gradient. What does it do?"
   ]
  }
 ],
 "metadata": {
  "kernelspec": {
   "display_name": "Python 3 (ipykernel)",
   "language": "python",
   "name": "python3"
  },
  "language_info": {
   "codemirror_mode": {
    "name": "ipython",
    "version": 3
   },
   "file_extension": ".py",
   "mimetype": "text/x-python",
   "name": "python",
   "nbconvert_exporter": "python",
   "pygments_lexer": "ipython3",
   "version": "3.8.13"
  }
 },
 "nbformat": 4,
 "nbformat_minor": 5
}

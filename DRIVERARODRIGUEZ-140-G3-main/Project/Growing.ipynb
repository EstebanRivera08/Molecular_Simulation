{
 "cells": [
  {
   "cell_type": "markdown",
   "id": "4c819ed7-e319-4b00-9fbc-adcfafe29c46",
   "metadata": {},
   "source": [
    "# Generating dense disordered packings"
   ]
  },
  {
   "cell_type": "markdown",
   "id": "a93b5847-22c6-4aac-a81c-2396594a4985",
   "metadata": {},
   "source": [
    "It is difficult to create dense packings of disks without imposing order, for instance building a dense crystal. Disordered packings are used as models for glassy materials or colloidal solids. A clever way of creating such systems was invented by Lubachevsky and Stillinger. They start with a system in which the particle size $\\sigma=0$, and then let the size of the particles increase linearly with time $\\sigma= \\sigma' t$. Work out the collision rules for such a system and implement them in your code using subclassing. What are the densest packings that you can create as a function of the growth rate $\\sigma'$?"
   ]
  },
  {
   "cell_type": "markdown",
   "id": "ad41e736-a9ad-4e1f-83b4-d5ba6e421908",
   "metadata": {},
   "source": [
    "[https://en.wikipedia.org/wiki/Lubachevsky%E2%80%93Stillinger_algorithm](https://en.wikipedia.org/wiki/Lubachevsky%E2%80%93Stillinger_algorithm)"
   ]
  }
 ],
 "metadata": {
  "kernelspec": {
   "display_name": "Python 3",
   "language": "python",
   "name": "python3"
  },
  "language_info": {
   "codemirror_mode": {
    "name": "ipython",
    "version": 3
   },
   "file_extension": ".py",
   "mimetype": "text/x-python",
   "name": "python",
   "nbconvert_exporter": "python",
   "pygments_lexer": "ipython3",
   "version": "3.9.0"
  }
 },
 "nbformat": 4,
 "nbformat_minor": 5
}

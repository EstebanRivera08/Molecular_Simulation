{
 "cells": [
  {
   "cell_type": "markdown",
   "id": "77bf297e-b490-4adf-b912-a8ff4d530aea",
   "metadata": {},
   "source": [
    "# Mixing time for an inhomogeneous system\n",
    "\n",
    "Create a system with two different colored particles (and different sizes if you are ambitious). Have the particles spatially separated. Explore how long is needed for the system to become uniform as a function of the number of particles and the initial density. To compare two distributions we can use the kolmogorov-smirnov test, from [scipy](https://docs.scipy.org/doc/scipy/reference/generated/scipy.stats.ks_2samp.html). Talk with a member of staff how this works."
   ]
  }
 ],
 "metadata": {
  "kernelspec": {
   "display_name": "Python 3",
   "language": "python",
   "name": "python3"
  },
  "language_info": {
   "codemirror_mode": {
    "name": "ipython",
    "version": 3
   },
   "file_extension": ".py",
   "mimetype": "text/x-python",
   "name": "python",
   "nbconvert_exporter": "python",
   "pygments_lexer": "ipython3",
   "version": "3.9.0"
  }
 },
 "nbformat": 4,
 "nbformat_minor": 5
}

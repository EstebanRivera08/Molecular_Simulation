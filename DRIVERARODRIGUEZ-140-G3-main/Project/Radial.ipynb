{
 "cells": [
  {
   "cell_type": "markdown",
   "id": "4c819ed7-e319-4b00-9fbc-adcfafe29c46",
   "metadata": {},
   "source": [
    "## Radial distribution functions.\n",
    "\n",
    "If we look at a configuration after a call to `md_step()` we see that pairs of particles are at different distances from each other. An important characteristic is the probability distribution of separations between all pairs of particles. \n",
    "1. The 'virial theorem' shows that this distribution function gives a second independent way of calculating the pressure\n",
    "\n",
    "2. The Fourier transform of this function is measured in X-ray scattering experiments on materials."
   ]
  },
  {
   "cell_type": "markdown",
   "id": "a93b5847-22c6-4aac-a81c-2396594a4985",
   "metadata": {},
   "source": [
    "From the time evolution of configurations build the two-dimensional histogram of separations between pairs of particles. $g({\\bf r})$, where ${\\bf r}$ is the vector separation between particles."
   ]
  },
  {
   "cell_type": "markdown",
   "id": "bede6761-d94f-4c3b-8067-e3df5bccaabe",
   "metadata": {},
   "source": [
    "From the same configurations build the one-dimensional histogram $g(r)$, where $r=|{\\bf r}|$. Study this function as a function of density, for moderate values of $N\\sim 100$."
   ]
  },
  {
   "cell_type": "markdown",
   "id": "ad41e736-a9ad-4e1f-83b4-d5ba6e421908",
   "metadata": {},
   "source": [
    "Python list functions are useful for this exercise, since they can grow efficiently after each call to `md_step()`"
   ]
  }
 ],
 "metadata": {
  "kernelspec": {
   "display_name": "Python 3",
   "language": "python",
   "name": "python3"
  },
  "language_info": {
   "codemirror_mode": {
    "name": "ipython",
    "version": 3
   },
   "file_extension": ".py",
   "mimetype": "text/x-python",
   "name": "python",
   "nbconvert_exporter": "python",
   "pygments_lexer": "ipython3",
   "version": "3.9.0"
  }
 },
 "nbformat": 4,
 "nbformat_minor": 5
}

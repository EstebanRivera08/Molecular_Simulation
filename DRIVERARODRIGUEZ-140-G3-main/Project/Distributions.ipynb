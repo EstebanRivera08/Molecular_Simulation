{
 "cells": [
  {
   "cell_type": "markdown",
   "id": "4c819ed7-e319-4b00-9fbc-adcfafe29c46",
   "metadata": {},
   "source": [
    "# Distributions of speeds and velocities in a gas"
   ]
  },
  {
   "cell_type": "markdown",
   "id": "a93b5847-22c6-4aac-a81c-2396594a4985",
   "metadata": {},
   "source": [
    "1. Measure the distribution of the x-component of the velocity, $v_x$ in a system of $N$ particles. Is this distribution compatible with a Gaussian for all values of $N$? Measure the distribution of the speed $\\sqrt{v_x^2 + v_y^2}$ and explain the result.\n",
    "\n",
    "2. Measure the distribution of $v_x$ for particles which hit the wall. Is this distribution the same as in 1 ?\n",
    "\n",
    "3. If you start with a system far from equilibrium -- for instance only a single non-zero velocity how long does it take for the velocity distribution to equilibrate?\n",
    "\n",
    "4. How does the velocity distribution change with density?\n"
   ]
  },
  {
   "cell_type": "markdown",
   "id": "ad41e736-a9ad-4e1f-83b4-d5ba6e421908",
   "metadata": {},
   "source": [
    "Distributions can be studied by binning, using python histogram functions, or by calculating the integrated distribution function.\n",
    "\n",
    "One way of asking if two distributions are the same is to use the Kolmogorov-Smirnov test, which is available from Python. If you want to explore in detail talk to someone in the teaching team for an explanation. The KS test measures vertical separation between integrated distribution functions as a measure of the 'distance' between two distributions. The KS test is in [scipy](https://docs.scipy.org/doc/scipy/reference/generated/scipy.stats.ks_2samp.html)."
   ]
  }
 ],
 "metadata": {
  "kernelspec": {
   "display_name": "Python 3 (ipykernel)",
   "language": "python",
   "name": "python3"
  },
  "language_info": {
   "codemirror_mode": {
    "name": "ipython",
    "version": 3
   },
   "file_extension": ".py",
   "mimetype": "text/x-python",
   "name": "python",
   "nbconvert_exporter": "python",
   "pygments_lexer": "ipython3",
   "version": "3.8.13"
  }
 },
 "nbformat": 4,
 "nbformat_minor": 5
}

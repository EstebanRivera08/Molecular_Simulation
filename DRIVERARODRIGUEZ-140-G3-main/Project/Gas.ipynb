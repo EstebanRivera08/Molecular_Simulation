{
 "cells": [
  {
   "cell_type": "markdown",
   "id": "4c819ed7-e319-4b00-9fbc-adcfafe29c46",
   "metadata": {},
   "source": [
    "## Pressure in hard disk systems"
   ]
  },
  {
   "cell_type": "markdown",
   "id": "a93b5847-22c6-4aac-a81c-2396594a4985",
   "metadata": {},
   "source": [
    "We wish to study the pressure of the hard disk system as a function of the density. van der Waals proposed a simple equation of state which improves on the perfect gas law $PV=Nk_BT$, where $P$ is the pressure, $V$ the volume $T$ temperature and $N$ number of particles. For particles with only repulsive interactions, like the hard disk system he proposed $P(V/N-b) = k_B T$. Study the pressure of a hard sphere system as a function of $N$ and $V$, can you extract a value for the volume correction $b$. How well does the van der Walls expression work? Does it break down in certain limits?"
   ]
  },
  {
   "cell_type": "markdown",
   "id": "91dcd310-0028-4b41-8119-889178262c8e",
   "metadata": {},
   "source": [
    "You will need to initialize the state of the system for different average densities, what is the best strategy for placing $N$ particles in a box? To get reasonable results $N$ should be neither too small, where systematic errors creep in, nor too large when then dynamics becomes slow due to the simple algorithms that we are using."
   ]
  },
  {
   "cell_type": "markdown",
   "id": "ad41e736-a9ad-4e1f-83b4-d5ba6e421908",
   "metadata": {},
   "source": [
    "This model was first studied in the 1950's and 60's see for instance [https://journals.aps.org/pr/pdf/10.1103/PhysRev.127.359](https://journals.aps.org/pr/pdf/10.1103/PhysRev.127.359)\n",
    "Despite its simplicity this model is still widely studied in recent research literature [https://arxiv.org/pdf/1102.4094.pdf](https://arxiv.org/pdf/1102.4094.pdf)"
   ]
  },
  {
   "cell_type": "code",
   "execution_count": null,
   "id": "2ea64534-c6ea-4480-a62a-341112c7a5c7",
   "metadata": {},
   "outputs": [],
   "source": []
  }
 ],
 "metadata": {
  "kernelspec": {
   "display_name": "Python 3",
   "language": "python",
   "name": "python3"
  },
  "language_info": {
   "codemirror_mode": {
    "name": "ipython",
    "version": 3
   },
   "file_extension": ".py",
   "mimetype": "text/x-python",
   "name": "python",
   "nbconvert_exporter": "python",
   "pygments_lexer": "ipython3",
   "version": "3.9.0"
  }
 },
 "nbformat": 4,
 "nbformat_minor": 5
}

{
 "cells": [
  {
   "cell_type": "markdown",
   "id": "4c819ed7-e319-4b00-9fbc-adcfafe29c46",
   "metadata": {},
   "source": [
    "## More general potentials"
   ]
  },
  {
   "cell_type": "markdown",
   "id": "a93b5847-22c6-4aac-a81c-2396594a4985",
   "metadata": {},
   "source": [
    "With only repulsive interactions it is not possible to study the usual solid/liquid/gas phases which correspond to most materials we know. It is possible however to make a more general interaction potential that can be simulated with event driven methods. For instance:\n",
    "\n",
    "<img src=\"images/SquarePotential.png\" width=\"300\">"
   ]
  },
  {
   "cell_type": "markdown",
   "id": "91dcd310-0028-4b41-8119-889178262c8e",
   "metadata": {},
   "source": [
    "Find the collisions rules for the square-well system and write code to follow the dynamics. Somewhat trickly to get right... This has all the usual 3 phases that we are used to."
   ]
  }
 ],
 "metadata": {
  "kernelspec": {
   "display_name": "Python 3 (ipykernel)",
   "language": "python",
   "name": "python3"
  },
  "language_info": {
   "codemirror_mode": {
    "name": "ipython",
    "version": 3
   },
   "file_extension": ".py",
   "mimetype": "text/x-python",
   "name": "python",
   "nbconvert_exporter": "python",
   "pygments_lexer": "ipython3",
   "version": "3.9.12"
  }
 },
 "nbformat": 4,
 "nbformat_minor": 5
}

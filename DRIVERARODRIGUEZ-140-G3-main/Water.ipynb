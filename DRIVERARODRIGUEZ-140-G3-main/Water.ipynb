{
 "cells": [
  {
   "cell_type": "markdown",
   "id": "db6c1373-e574-4d08-8749-1ea63573421d",
   "metadata": {},
   "source": [
    "# Example of Molecular dynamics applied to water/ice simulation\n",
    "\n",
    "Molecular dynamics is widely used to study the properties of condensed matter systems, using more complicated potential functions than hard spheres. Here  mixture of Lennard-Jones and electrostatic interactions allow one to reproduce the structure of liquid water and ice, and follow the evolution of the interface between them."
   ]
  },
  {
   "cell_type": "code",
   "execution_count": 2,
   "id": "7524d049-32af-4a69-ab0d-88617dc72453",
   "metadata": {},
   "outputs": [
    {
     "data": {
      "application/vnd.jupyter.widget-view+json": {
       "model_id": "a948fd863dd14fcfb620741861ee50ed",
       "version_major": 2,
       "version_minor": 0
      },
      "text/plain": [
       "Video(value=b'https://turner.pct.espci.fr/~amaggs/Water.webm', format='url')"
      ]
     },
     "metadata": {},
     "output_type": "display_data"
    }
   ],
   "source": [
    "from ipywidgets import Video, Image\n",
    "from IPython.display import display, HTML\n",
    "import ipywidgets as widgets\n",
    "video=Video.from_url('https://turner.pct.espci.fr/~amaggs/Water.webm')\n",
    "video"
   ]
  },
  {
   "cell_type": "code",
   "execution_count": null,
   "id": "fb9bfbc9-5bc6-4bdb-b809-1a9cfe5d5968",
   "metadata": {},
   "outputs": [],
   "source": []
  }
 ],
 "metadata": {
  "kernelspec": {
   "display_name": "Python 3 (ipykernel)",
   "language": "python",
   "name": "python3"
  },
  "language_info": {
   "codemirror_mode": {
    "name": "ipython",
    "version": 3
   },
   "file_extension": ".py",
   "mimetype": "text/x-python",
   "name": "python",
   "nbconvert_exporter": "python",
   "pygments_lexer": "ipython3",
   "version": "3.9.12"
  }
 },
 "nbformat": 4,
 "nbformat_minor": 5
}
